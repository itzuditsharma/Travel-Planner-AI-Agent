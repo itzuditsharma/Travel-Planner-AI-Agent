{
 "cells": [
  {
   "cell_type": "code",
   "execution_count": 13,
   "metadata": {},
   "outputs": [],
   "source": [
    "import os\n",
    "from typing import TypedDict, Annotated, List\n",
    "from langgraph.graph import StateGraph, END\n",
    "from langchain_core.messages import HumanMessage, AIMessage\n",
    "from langchain_core.prompts import ChatPromptTemplate\n",
    "from langchain_core.runnables.graph import MermaidDrawMethod\n",
    "from IPython.display import display, Image"
   ]
  },
  {
   "cell_type": "code",
   "execution_count": 4,
   "metadata": {},
   "outputs": [
    {
     "data": {
      "text/plain": [
       "True"
      ]
     },
     "execution_count": 4,
     "metadata": {},
     "output_type": "execute_result"
    }
   ],
   "source": [
    "from dotenv import load_dotenv\n",
    "load_dotenv()"
   ]
  },
  {
   "cell_type": "markdown",
   "metadata": {},
   "source": [
    "Define Agent"
   ]
  },
  {
   "cell_type": "code",
   "execution_count": 3,
   "metadata": {},
   "outputs": [],
   "source": [
    "class PlannerState(TypedDict):\n",
    "    messages : Annotated[List[HumanMessage | AIMessage], \"The messages in conversation\"]\n",
    "    city : str\n",
    "    interests : List[str]\n",
    "    itenerary : str"
   ]
  },
  {
   "cell_type": "code",
   "execution_count": 7,
   "metadata": {},
   "outputs": [],
   "source": [
    "groq_api_key = os.getenv(\"GROQ_API_KEY\")"
   ]
  },
  {
   "cell_type": "code",
   "execution_count": 8,
   "metadata": {},
   "outputs": [],
   "source": [
    "from langchain_groq import ChatGroq\n",
    "llm = ChatGroq(\n",
    "    temperature=0,\n",
    "    groq_api_key = groq_api_key,\n",
    "    model=\"llama-3.3-70b-versatile\"\n",
    ")"
   ]
  },
  {
   "cell_type": "code",
   "execution_count": 11,
   "metadata": {},
   "outputs": [
    {
     "name": "stdout",
     "output_type": "stream",
     "text": [
      "LLM stands for Large Language Model. It refers to a type of artificial intelligence (AI) designed to process and understand human language at a large scale. LLMs are trained on vast amounts of text data, which enables them to learn patterns, relationships, and structures of language, allowing them to generate human-like text, answer questions, and even converse with humans.\n",
      "\n",
      "LLMs are typically based on deep learning architectures, such as transformer models, and are trained using massive datasets of text from various sources, including books, articles, research papers, and websites. This training allows LLMs to develop a broad understanding of language, including grammar, syntax, semantics, and pragmatics.\n",
      "\n",
      "Some key features of LLMs include:\n",
      "\n",
      "1. **Language understanding**: LLMs can comprehend and interpret human language, including nuances and context.\n",
      "2. **Text generation**: LLMs can generate coherent and natural-sounding text, often indistinguishable from human-written text.\n",
      "3. **Conversational capabilities**: LLMs can engage in conversation, answering questions and responding to prompts.\n",
      "4. **Knowledge retrieval**: LLMs can retrieve information from their vast training datasets to answer questions and provide information on a wide range of topics.\n",
      "\n",
      "LLMs have many applications, including:\n",
      "\n",
      "1. **Virtual assistants**: LLMs power virtual assistants like chatbots, voice assistants, and language translation systems.\n",
      "2. **Content generation**: LLMs can generate content, such as articles, blog posts, and social media posts.\n",
      "3. **Language translation**: LLMs can translate text from one language to another.\n",
      "4. **Sentiment analysis**: LLMs can analyze text to determine sentiment, emotion, and tone.\n",
      "\n",
      "Examples of LLMs include language models like BERT, RoBERTa, and transformer-based models like those developed by Google, Microsoft, and Facebook.\n"
     ]
    }
   ],
   "source": [
    "response = llm.invoke(\"What is LLM?\")\n",
    "print(response.content)"
   ]
  },
  {
   "cell_type": "code",
   "execution_count": 14,
   "metadata": {},
   "outputs": [],
   "source": [
    "itenerary_prompt = ChatPromptTemplate.from_messages([\n",
    "    (\"system\", \"You are a helpful travel assistant. Create a day trip itinerary for {city} based on the user's interests: {interests}. Provide a brief, bulleted itinerary.\"),\n",
    "    (\"human\", \"Create an itinerary for my day trip.\"),\n",
    "])"
   ]
  },
  {
   "cell_type": "markdown",
   "metadata": {},
   "source": [
    "### Define Agent Functions"
   ]
  },
  {
   "cell_type": "code",
   "execution_count": 15,
   "metadata": {},
   "outputs": [],
   "source": [
    "def input_city(state: PlannerState) -> PlannerState:\n",
    "    print(\"Enter city name that you want to visit\")\n",
    "    user_message = input(\"Your input: \")\n",
    "    return {\n",
    "        **state,\n",
    "        \"city\" : user_message,\n",
    "        \"messages\" : state['messages'] + [HumanMessage(content=user_message)]\n",
    "    }\n",
    "\n",
    "def input_interest(state : PlannerState) -> PlannerState:\n",
    "    print(f\"Enter your interests for trip to {state['city']} (comma-separated)\")\n",
    "    user_message = input(\"Your input: \")\n",
    "    return {\n",
    "        **state,\n",
    "        \"interests\" : [interest.strip() for interest in user_message.split(',')],\n",
    "        \"messages\" : state['messages'] + [HumanMessage(content=user_message)]\n",
    "    }\n",
    "def create_itenerary(state: PlannerState) -> PlannerState:\n",
    "    print(f\"Creating an itenerary for {state['city']} based on your interests : {', '.join(state['interests'])}\"),\n",
    "    response = llm.invoke(itenerary_prompt.format_messages(city = state['city'], interests = ','.join(state['interests'])))\n",
    "    print(\"Finalised Itinerary: \")\n",
    "    print(response.content)\n",
    "    return {\n",
    "        **state,\n",
    "        \"messages\" : state['messages'] + [AIMessage(content = response.content)],\n",
    "        \"itinerary\" : response.content\n",
    "    }\n"
   ]
  },
  {
   "cell_type": "markdown",
   "metadata": {},
   "source": [
    "#### Create an compile the Graph"
   ]
  },
  {
   "cell_type": "code",
   "execution_count": 16,
   "metadata": {},
   "outputs": [],
   "source": [
    "workflow = StateGraph(PlannerState)\n",
    "\n",
    "workflow.add_node(\"input_city\", input_city)\n",
    "workflow.add_node(\"input_interest\", input_interest)\n",
    "workflow.add_node(\"create_itenerary\", create_itenerary)\n",
    "\n",
    "workflow.set_entry_point(\"input_city\")\n",
    "\n",
    "workflow.add_edge(\"input_city\", \"input_interest\")\n",
    "workflow.add_edge(\"input_interest\", \"create_itenerary\")\n",
    "workflow.add_edge(\"create_itenerary\", END)\n",
    "\n",
    "app = workflow.compile()"
   ]
  },
  {
   "cell_type": "markdown",
   "metadata": {},
   "source": [
    "Display the graph"
   ]
  },
  {
   "cell_type": "code",
   "execution_count": 17,
   "metadata": {},
   "outputs": [
    {
     "data": {
      "image/png": "[encoded data removed]",
      "text/plain": [
       "<IPython.core.display.Image object>"
      ]
     },
     "metadata": {},
     "output_type": "display_data"
    }
   ],
   "source": [
    "display(\n",
    "    Image(\n",
    "        app.get_graph().draw_mermaid_png(\n",
    "            draw_method= MermaidDrawMethod.API\n",
    "        )\n",
    "    )\n",
    ")"
   ]
  },
  {
   "cell_type": "markdown",
   "metadata": {},
   "source": [
    "Define a function to run the graph "
   ]
  },
  {
   "cell_type": "code",
   "execution_count": 18,
   "metadata": {},
   "outputs": [],
   "source": [
    "def travel_planner(user_request: str):\n",
    "    print(f\"Initial request: {user_request}\\n\")\n",
    "    state = {\n",
    "        \"messages\" : [HumanMessage(content = user_request)],\n",
    "        \"city\" : \"\",\n",
    "        \"interests\" : [],\n",
    "        \"itinerary\" : \"\",\n",
    "    }\n",
    "\n",
    "    for output in app.stream(state):\n",
    "        pass"
   ]
  },
  {
   "cell_type": "code",
   "execution_count": 19,
   "metadata": {},
   "outputs": [
    {
     "name": "stdout",
     "output_type": "stream",
     "text": [
      "Initial request: I want to plan a day trip\n",
      "\n",
      "Enter city name that you want to visit\n",
      "Enter your interests for trip to Paris (comma-separated)\n",
      "Creating an itenerary for Paris based on your interests : Eiffel Tower, Church, Museum\n",
      "Finalised Itinerary: \n",
      "For your day trip to Paris, here's a suggested itinerary based on your interests in the Eiffel Tower, a Church, and a Museum:\n",
      "\n",
      "* 9:00 AM - Start the day with a visit to the iconic **Eiffel Tower** for breathtaking views of the city.\n",
      "* 11:00 AM - Head to the historic **Notre-Dame Cathedral**, a beautiful and famous church in the heart of Paris.\n",
      "* 1:00 PM - Take a break for lunch at a nearby café or restaurant.\n",
      "* 2:30 PM - Visit the **Louvre Museum**, one of the world's largest and most famous museums, to explore its vast collection of art and artifacts.\n",
      "* 5:00 PM - End the day with a scenic stroll along the Seine River, taking in the city's charm and beauty.\n",
      "\n",
      "This itinerary provides a good balance of iconic landmarks, cultural experiences, and relaxation, making for a memorable day trip to Paris.\n"
     ]
    }
   ],
   "source": [
    "user_request = \"I want to plan a day trip\"\n",
    "travel_planner(user_request)"
   ]
  }
 ],
 "metadata": {
  "kernelspec": {
   "display_name": "Python 3",
   "language": "python",
   "name": "python3"
  },
  "language_info": {
   "codemirror_mode": {
    "name": "ipython",
    "version": 3
   },
   "file_extension": ".py",
   "mimetype": "text/x-python",
   "name": "python",
   "nbconvert_exporter": "python",
   "pygments_lexer": "ipython3",
   "version": "3.10.16"
  }
 },
 "nbformat": 4,
 "nbformat_minor": 2
}
